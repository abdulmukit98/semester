{
 "cells": [
  {
   "cell_type": "markdown",
   "metadata": {},
   "source": [
    "# Creating NumPy Arrays"
   ]
  },
  {
   "cell_type": "code",
   "execution_count": 1,
   "metadata": {},
   "outputs": [],
   "source": [
    "import numpy as np"
   ]
  },
  {
   "cell_type": "code",
   "execution_count": 2,
   "metadata": {},
   "outputs": [
    {
     "name": "stdout",
     "output_type": "stream",
     "text": [
      "[0 1 2 3 4 5 6 7 8 9]\n",
      "(10,)\n"
     ]
    }
   ],
   "source": [
    "a1 = np.arange(10)        # creates a range from 0 to 9\n",
    "print(a1)                 # [0 1 2 3 4 5 6 7 8 9]\n",
    "print(a1.shape)           # (10,)\n"
   ]
  },
  {
   "cell_type": "code",
   "execution_count": 4,
   "metadata": {},
   "outputs": [
    {
     "name": "stdout",
     "output_type": "stream",
     "text": [
      "[0 2 4 6 8]\n"
     ]
    }
   ],
   "source": [
    "a2 = np.arange(0,10,2)    # creates a range from 0 to 9, step 2\n",
    "print(a2)                 # [0 2 4 6 8]\n"
   ]
  },
  {
   "cell_type": "code",
   "execution_count": 5,
   "metadata": {},
   "outputs": [
    {
     "name": "stdout",
     "output_type": "stream",
     "text": [
      "[0. 0. 0. 0. 0.]\n",
      "(5,)\n"
     ]
    }
   ],
   "source": [
    "a3 = np.zeros(5)          # create an array with all 0s\n",
    "print(a3)                 # [ 0.  0.  0.  0.  0.]\n",
    "print(a3.shape)           # (5,)\n"
   ]
  },
  {
   "cell_type": "code",
   "execution_count": 6,
   "metadata": {},
   "outputs": [
    {
     "name": "stdout",
     "output_type": "stream",
     "text": [
      "(2, 3)\n",
      "[[0. 0. 0.]\n",
      " [0. 0. 0.]]\n"
     ]
    }
   ],
   "source": [
    "a4 = np.zeros((2,3))      # array of rank 2 with all 0s; 2 rows and 3 columns\n",
    "print(a4.shape)           # (2,3)\n",
    "print(a4)\n"
   ]
  },
  {
   "cell_type": "code",
   "execution_count": 7,
   "metadata": {},
   "outputs": [
    {
     "name": "stdout",
     "output_type": "stream",
     "text": [
      "[[8 8 8]\n",
      " [8 8 8]]\n"
     ]
    }
   ],
   "source": [
    "a5 = np.full((2,3), 8)    # array of rank 2 with all 8s\n",
    "print(a5)\n"
   ]
  },
  {
   "cell_type": "code",
   "execution_count": 8,
   "metadata": {},
   "outputs": [
    {
     "name": "stdout",
     "output_type": "stream",
     "text": [
      "[[1. 0. 0. 0.]\n",
      " [0. 1. 0. 0.]\n",
      " [0. 0. 1. 0.]\n",
      " [0. 0. 0. 1.]]\n"
     ]
    }
   ],
   "source": [
    "a6 = np.eye(4)            # 4x4 identity matrix\n",
    "print(a6)\n"
   ]
  },
  {
   "cell_type": "code",
   "execution_count": 10,
   "metadata": {},
   "outputs": [
    {
     "name": "stdout",
     "output_type": "stream",
     "text": [
      "[[0.84844889 0.05451894 0.07489062 0.21004858]\n",
      " [0.27464831 0.00122032 0.22403155 0.01216652]]\n"
     ]
    }
   ],
   "source": [
    "a7 = np.random.random((2,4)) # rank 2 array (2 rows 4 columns) with random values\n",
    "                             # in the half-open interval [0.0, 1.0)\n",
    "print(a7)\n"
   ]
  },
  {
   "cell_type": "code",
   "execution_count": 11,
   "metadata": {},
   "outputs": [
    {
     "name": "stdout",
     "output_type": "stream",
     "text": [
      "[1 2 3 4 5]\n",
      "(5,)\n"
     ]
    }
   ],
   "source": [
    "list1 = [1,2,3,4,5]  # list1 is a list in Python\n",
    "r1 = np.array(list1) # rank 1 array\n",
    "print(r1)            # [1 2 3 4 5]\n",
    "print(r1.shape)\n"
   ]
  },
  {
   "cell_type": "markdown",
   "metadata": {},
   "source": [
    "## Array Indexing"
   ]
  },
  {
   "cell_type": "code",
   "execution_count": null,
   "metadata": {},
   "outputs": [],
   "source": [
    "print(r1[0])         # 1\n",
    "print(r1[1])         # 2\n",
    "\n",
    "print(r1[-1])        # 5\n",
    "print(r1[-2])        # 4\n"
   ]
  },
  {
   "cell_type": "code",
   "execution_count": null,
   "metadata": {},
   "outputs": [],
   "source": [
    "list2 = [6,7,8,9,0]\n",
    "r2 = np.array([list1,list2])  # rank 2 array\n",
    "print(r2)\n",
    "print(r2.shape)               # (2,5) - 2 rows and 5 columns\n",
    "print(r2[0,0])                # 1\n",
    "print(r2[0,1])                # 2\n",
    "print(r2[1,0])                # 6\n"
   ]
  },
  {
   "cell_type": "code",
   "execution_count": null,
   "metadata": {},
   "outputs": [],
   "source": [
    "list1 = [1,2,3,4,5]\n",
    "r1 = np.array(list1)\n",
    "print(r1[[2,4]])              # [3 5]\n"
   ]
  },
  {
   "cell_type": "markdown",
   "metadata": {},
   "source": [
    "## Boolean Indexing"
   ]
  },
  {
   "cell_type": "code",
   "execution_count": null,
   "metadata": {},
   "outputs": [],
   "source": [
    "print(r1>2)     # [False False  True  True  True]\n"
   ]
  },
  {
   "cell_type": "code",
   "execution_count": null,
   "metadata": {},
   "outputs": [],
   "source": [
    "print(r1[r1>2])    # [3 4 5]\n"
   ]
  },
  {
   "cell_type": "markdown",
   "metadata": {},
   "source": [
    "# Exercises\n",
    "***\n"
   ]
  },
  {
   "cell_type": "markdown",
   "metadata": {},
   "source": [
    "1. Print out all the odd number items in the r1 array\n",
    "2. Print out the last third number in the r1 array"
   ]
  },
  {
   "cell_type": "markdown",
   "metadata": {},
   "source": [
    "# Solutions\n",
    "---"
   ]
  },
  {
   "cell_type": "code",
   "execution_count": null,
   "metadata": {},
   "outputs": [],
   "source": [
    "print(r1[r1 % 2 == 1])\n",
    "\n",
    "print(r1[-3])\n"
   ]
  },
  {
   "cell_type": "markdown",
   "metadata": {},
   "source": [
    "---\n"
   ]
  },
  {
   "cell_type": "code",
   "execution_count": null,
   "metadata": {},
   "outputs": [],
   "source": [
    "nums = np.arange(20)\n",
    "print(nums)        # [ 0  1  2  3  4  5  6  7  8  9 10 11 12 13 14 15 16 17 18 19]\n"
   ]
  },
  {
   "cell_type": "code",
   "execution_count": null,
   "metadata": {},
   "outputs": [],
   "source": [
    "odd_num = nums[nums % 2 == 1]\n",
    "print(odd_num)     # [ 1  3  5  7  9 11 13 15 17 19]\n"
   ]
  },
  {
   "cell_type": "markdown",
   "metadata": {},
   "source": [
    "## Slicing Arrays"
   ]
  },
  {
   "cell_type": "code",
   "execution_count": null,
   "metadata": {},
   "outputs": [],
   "source": [
    "a = np.array([[1,2,3,4,5],\n",
    "               [4,5,6,7,8],\n",
    "               [9,8,7,6,5]])    # rank 2 array\n",
    "print(a)\n"
   ]
  },
  {
   "cell_type": "code",
   "execution_count": null,
   "metadata": {},
   "outputs": [],
   "source": [
    "b1 = a[1:3, :3]                 # row 1 to 3 (not inclusive) and first 3 columns\n",
    "print(b1)\n"
   ]
  },
  {
   "cell_type": "code",
   "execution_count": null,
   "metadata": {},
   "outputs": [],
   "source": [
    "b2 = a[-2:,-2:]\n",
    "print(b2)\n"
   ]
  },
  {
   "cell_type": "markdown",
   "metadata": {},
   "source": [
    "## NumPy Slice Is a Reference"
   ]
  },
  {
   "cell_type": "code",
   "execution_count": null,
   "metadata": {},
   "outputs": [],
   "source": [
    "b3 = a[1:, 2:]      # row 1 onwards and column 2 onwards\n",
    "                    # b3 is now pointing to a subset of a7\n",
    "print(b3)\n"
   ]
  },
  {
   "cell_type": "code",
   "execution_count": null,
   "metadata": {},
   "outputs": [],
   "source": [
    "b3[0,2] = 88         # b3[0,2] is pointing to a[1,4]; modifying it will modify\n",
    "                     # the original array\n",
    "print(a)\n"
   ]
  },
  {
   "cell_type": "code",
   "execution_count": null,
   "metadata": {},
   "outputs": [],
   "source": [
    "b4 = a[2:, :]        # row 2 onwards and all columns\n",
    "print(b4)            # b4 is rank 2\n",
    "print(b4.shape)\n"
   ]
  },
  {
   "cell_type": "code",
   "execution_count": null,
   "metadata": {},
   "outputs": [],
   "source": [
    "b5 = a[2, :]         # row 2 and all columns\n",
    "print(b5)            # b5 is rank 1\n"
   ]
  },
  {
   "cell_type": "code",
   "execution_count": null,
   "metadata": {},
   "outputs": [],
   "source": [
    "print(b5.shape)      # (5,)\n"
   ]
  },
  {
   "cell_type": "markdown",
   "metadata": {},
   "source": [
    "# Reshaping Arrays"
   ]
  },
  {
   "cell_type": "code",
   "execution_count": null,
   "metadata": {},
   "outputs": [],
   "source": [
    "b5 = b5.reshape(1,-1)\n",
    "print(b5)\n"
   ]
  },
  {
   "cell_type": "code",
   "execution_count": null,
   "metadata": {},
   "outputs": [],
   "source": [
    "b4.reshape(-1,)\n"
   ]
  },
  {
   "cell_type": "markdown",
   "metadata": {},
   "source": [
    "# Array Maths"
   ]
  },
  {
   "cell_type": "code",
   "execution_count": null,
   "metadata": {},
   "outputs": [],
   "source": [
    "x1 = np.array([[1,2,3],[4,5,6]])\n",
    "y1 = np.array([[7,8,9],[2,3,4]])\n",
    "\n",
    "print(x1 + y1)\n"
   ]
  },
  {
   "cell_type": "code",
   "execution_count": null,
   "metadata": {},
   "outputs": [],
   "source": [
    "x = np.array([2,3])\n",
    "y = np.array([4,2])\n",
    "z = x + y\n"
   ]
  },
  {
   "cell_type": "code",
   "execution_count": null,
   "metadata": {},
   "outputs": [],
   "source": [
    "np.add(x1,y1)\n"
   ]
  },
  {
   "cell_type": "code",
   "execution_count": null,
   "metadata": {},
   "outputs": [],
   "source": [
    "print(x1 - y1)     # same as np.subtract(x1,y1)\n",
    "print(x1 * y1)     # same as np.multiply(x1,y1)\n",
    "print(x1 / y1)     # same as np.divide(x1,y1)\n"
   ]
  },
  {
   "cell_type": "code",
   "execution_count": null,
   "metadata": {},
   "outputs": [],
   "source": [
    "names   = np.array(['Ann','Joe','Mark'])\n",
    "heights = np.array([1.5, 1.78, 1.6])\n",
    "weights = np.array([65, 46, 59])\n",
    "\n",
    "bmi = weights/heights **2            # calculate the BMI\n",
    "print(bmi)                           # [ 28.88888889  14.51836889  23.046875  ]\n"
   ]
  },
  {
   "cell_type": "code",
   "execution_count": null,
   "metadata": {},
   "outputs": [],
   "source": [
    "print(\"Overweight: \"  , names[bmi>25])                    # Overweight:  ['Ann']\n",
    "print(\"Underweight: \" , names[bmi<18.5])                  # Underweight:  ['Joe']\n",
    "print(\"Healthy: \"     , names[(bmi>=18.5) & (bmi<=25)])   # Healthy:  ['Mark']\n"
   ]
  },
  {
   "cell_type": "markdown",
   "metadata": {},
   "source": [
    "# Dot Product"
   ]
  },
  {
   "cell_type": "code",
   "execution_count": null,
   "metadata": {},
   "outputs": [],
   "source": [
    "x = np.array([2,3])\n",
    "y = np.array([4,2])\n",
    "np.dot(x,y)  # 2x4 + 3x2 = 14 \n"
   ]
  },
  {
   "cell_type": "code",
   "execution_count": null,
   "metadata": {},
   "outputs": [],
   "source": [
    "x2 = np.array([[1,2,3],[4,5,6]])\n",
    "y2 = np.array([[7,8],[9,10], [11,12]])\n",
    "print(np.dot(x2,y2))                     # matrix multiplication\n"
   ]
  },
  {
   "cell_type": "markdown",
   "metadata": {},
   "source": [
    "## Matrix"
   ]
  },
  {
   "cell_type": "code",
   "execution_count": null,
   "metadata": {},
   "outputs": [],
   "source": [
    "x2 = np.matrix([[1,2],[4,5]])\n",
    "y2 = np.matrix([[7,8],[2,3]])\n"
   ]
  },
  {
   "cell_type": "code",
   "execution_count": null,
   "metadata": {},
   "outputs": [],
   "source": [
    "x1 = np.array([[1,2],[4,5]])\n",
    "y1 = np.array([[7,8],[2,3]])\n",
    "x1 = np.asmatrix(x1)\n",
    "y1 = np.asmatrix(y1)\n"
   ]
  },
  {
   "cell_type": "code",
   "execution_count": null,
   "metadata": {},
   "outputs": [],
   "source": [
    "x1 = np.array([[1,2],[4,5]])\n",
    "y1 = np.array([[7,8],[2,3]])\n",
    "print(x1 * y1)     # element-by-element multiplication\n",
    "\n",
    "x2 = np.matrix([[1,2],[4,5]])\n",
    "y2 = np.matrix([[7,8],[2,3]])\n",
    "print(x2 * y2)    # dot product; same as np.dot()\n"
   ]
  },
  {
   "cell_type": "markdown",
   "metadata": {},
   "source": [
    "## Cumulative Sum"
   ]
  },
  {
   "cell_type": "code",
   "execution_count": null,
   "metadata": {},
   "outputs": [],
   "source": [
    "a = np.array([(1,2,3),(4,5,6), (7,8,9)])\n",
    "print(a)\n"
   ]
  },
  {
   "cell_type": "code",
   "execution_count": null,
   "metadata": {},
   "outputs": [],
   "source": [
    "print(a.cumsum())   # prints the cumulative sum of all the\n",
    "                    # elements in the array\n",
    "                    # [ 1  3  6 10 15 21 28 36 45]\n"
   ]
  },
  {
   "cell_type": "code",
   "execution_count": null,
   "metadata": {},
   "outputs": [],
   "source": [
    "print(a.cumsum(axis=0))  # sum over rows for each of the 3 columns\n"
   ]
  },
  {
   "cell_type": "code",
   "execution_count": null,
   "metadata": {},
   "outputs": [],
   "source": [
    "print(a.cumsum(axis=1))  # sum over columns for each of the 3 rows\n"
   ]
  },
  {
   "cell_type": "markdown",
   "metadata": {},
   "source": [
    "## NumPy Sorting"
   ]
  },
  {
   "cell_type": "code",
   "execution_count": null,
   "metadata": {},
   "outputs": [],
   "source": [
    "ages = np.array([34,12,37,5,13])\n",
    "sorted_ages = np.sort(ages)   # does not modify the original array\n",
    "print(sorted_ages)            # [ 5 12 13 34 37]\n",
    "print(ages)                   # [34 12 37  5 13]\n"
   ]
  },
  {
   "cell_type": "code",
   "execution_count": null,
   "metadata": {},
   "outputs": [],
   "source": [
    "ages.sort()                   # modifies the array\n",
    "print(ages)                   # [ 5 12 13 34 37]\n"
   ]
  },
  {
   "cell_type": "code",
   "execution_count": null,
   "metadata": {},
   "outputs": [],
   "source": [
    "ages = np.array([34,12,37,5,13])\n",
    "print(ages.argsort())         # [3 1 4 0 2]\n"
   ]
  },
  {
   "cell_type": "code",
   "execution_count": null,
   "metadata": {},
   "outputs": [],
   "source": [
    "print(ages[ages.argsort()])   # [ 5 12 13 34 37]\n"
   ]
  },
  {
   "cell_type": "code",
   "execution_count": null,
   "metadata": {},
   "outputs": [],
   "source": [
    "persons = np.array(['Johnny','Mary','Peter','Will','Joe'])\n",
    "ages    = np.array([34,12,37,5,13])\n",
    "heights = np.array([1.76,1.2,1.68,0.5,1.25])\n"
   ]
  },
  {
   "cell_type": "code",
   "execution_count": null,
   "metadata": {},
   "outputs": [],
   "source": [
    "sort_indices = np.argsort(ages)  # performs a sort based on ages\n",
    "                                 # and returns an array of indices\n",
    "                                 # indicating the sort order\n"
   ]
  },
  {
   "cell_type": "code",
   "execution_count": null,
   "metadata": {},
   "outputs": [],
   "source": [
    "print(persons[sort_indices])      # ['Will' 'Mary' 'Joe' 'Johnny' 'Peter']\n",
    "print(ages[sort_indices])         # [ 5 12 13 34 37]\n",
    "print(heights[sort_indices])      # [ 0.5   1.2   1.25  1.76  1.68]\n"
   ]
  },
  {
   "cell_type": "code",
   "execution_count": null,
   "metadata": {},
   "outputs": [],
   "source": [
    "sort_indices = np.argsort(persons)   # sort based on names\n",
    "print(persons[sort_indices])         # ['Joe' 'Johnny' 'Mary' 'Peter' 'Will']\n",
    "print(ages[sort_indices])            # [13 34 12 37  5]\n",
    "print(heights[sort_indices])         # [ 1.25  1.76  1.2   1.68  0.5 ]\n"
   ]
  },
  {
   "cell_type": "code",
   "execution_count": null,
   "metadata": {},
   "outputs": [],
   "source": [
    "reverse_sort_indices = np.argsort(persons)[::-1] # reverse the order of a list\n",
    "print(persons[reverse_sort_indices])     # ['Will' 'Peter' 'Mary' 'Johnny' 'Joe']\n",
    "print(ages[reverse_sort_indices])        # [ 5 37 12 34 13]\n",
    "print(heights[reverse_sort_indices])     # [ 0.5   1.68  1.2   1.76  1.25]\n"
   ]
  },
  {
   "cell_type": "markdown",
   "metadata": {},
   "source": [
    "# Array Assignment"
   ]
  },
  {
   "cell_type": "markdown",
   "metadata": {},
   "source": [
    "## Copying by Reference"
   ]
  },
  {
   "cell_type": "code",
   "execution_count": null,
   "metadata": {},
   "outputs": [],
   "source": [
    "list1 = [[1,2,3,4], [5,6,7,8]]\n",
    "a1 = np.array(list1)\n",
    "print(a1)\n"
   ]
  },
  {
   "cell_type": "code",
   "execution_count": null,
   "metadata": {},
   "outputs": [],
   "source": [
    "a2 = a1             # creates a copy by reference\n",
    "print(a1)\n",
    "print(a2)\n"
   ]
  },
  {
   "cell_type": "code",
   "execution_count": null,
   "metadata": {},
   "outputs": [],
   "source": [
    "a2[0][0] = 11      # make some changes to a2\n",
    "print(a1)          # affects a1\n",
    "print(a2)\n"
   ]
  },
  {
   "cell_type": "code",
   "execution_count": null,
   "metadata": {},
   "outputs": [],
   "source": [
    "a1.shape = 1,-1   # reshape a1\n",
    "print(a1)\n",
    "print(a2)         # a2 also changes shape\n"
   ]
  },
  {
   "cell_type": "markdown",
   "metadata": {},
   "source": [
    "## Copying by View (Shallow Copy)"
   ]
  },
  {
   "cell_type": "code",
   "execution_count": null,
   "metadata": {},
   "outputs": [],
   "source": [
    "list1 = [[1,2,3,4], [5,6,7,8]]\n",
    "a1 = np.array(list1)\n",
    "a2 = a1.view()    # creates a copy of a1 by reference; but changes\n",
    "                  # in dimension in a1 will not affect a2\n",
    "print(a1)\n",
    "print(a2)\n"
   ]
  },
  {
   "cell_type": "code",
   "execution_count": null,
   "metadata": {},
   "outputs": [],
   "source": [
    "a1[0][0] = 11     # make some changes in a1\n",
    "print(a1)\n",
    "print(a2)         # changes is also seen in a2\n"
   ]
  },
  {
   "cell_type": "code",
   "execution_count": null,
   "metadata": {},
   "outputs": [],
   "source": [
    "a1.shape = 1,-1   # change the shape of a1\n",
    "print(a1)\n",
    "print(a2)         # a2 does not change shape\n"
   ]
  },
  {
   "cell_type": "markdown",
   "metadata": {},
   "source": [
    "## Copying by Value (Deep Copy)"
   ]
  },
  {
   "cell_type": "code",
   "execution_count": null,
   "metadata": {},
   "outputs": [],
   "source": [
    "list1 = [[1,2,3,4], [5,6,7,8]]\n",
    "a1 = np.array(list1)\n",
    "a2 = a1.copy()     # create a copy of a1 by value (deep copy)\n"
   ]
  },
  {
   "cell_type": "code",
   "execution_count": null,
   "metadata": {},
   "outputs": [],
   "source": [
    "a1[0][0] = 11     # make some changes in a1\n",
    "print(a1)\n",
    "print(a2)         # changes is not seen in a2\n"
   ]
  },
  {
   "cell_type": "code",
   "execution_count": null,
   "metadata": {},
   "outputs": [],
   "source": [
    "a1.shape = 1,-1   # change the shape of a1\n",
    "print(a1)\n",
    "print(a2)         # a2 does not change shape"
   ]
  },
  {
   "cell_type": "code",
   "execution_count": null,
   "metadata": {},
   "outputs": [],
   "source": []
  }
 ],
 "metadata": {
  "kernelspec": {
   "display_name": "Python 3 (ipykernel)",
   "language": "python",
   "name": "python3"
  },
  "language_info": {
   "codemirror_mode": {
    "name": "ipython",
    "version": 3
   },
   "file_extension": ".py",
   "mimetype": "text/x-python",
   "name": "python",
   "nbconvert_exporter": "python",
   "pygments_lexer": "ipython3",
   "version": "3.9.12"
  }
 },
 "nbformat": 4,
 "nbformat_minor": 2
}
