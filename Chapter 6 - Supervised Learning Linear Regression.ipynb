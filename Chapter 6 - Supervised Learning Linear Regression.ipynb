{
 "cells": [
  {
   "cell_type": "markdown",
   "metadata": {
    "collapsed": true
   },
   "source": [
    "# Linear Regression"
   ]
  },
  {
   "cell_type": "markdown",
   "metadata": {
    "collapsed": true
   },
   "source": [
    "## Using the Boston Dataset"
   ]
  },
  {
   "cell_type": "code",
   "execution_count": null,
   "metadata": {},
   "outputs": [],
   "source": [
    "import matplotlib.pyplot as plt\n",
    "import pandas as pd\n",
    "import numpy as np\n",
    "\n",
    "from sklearn.datasets import load_boston\n",
    "dataset = load_boston()\n"
   ]
  },
  {
   "cell_type": "code",
   "execution_count": null,
   "metadata": {},
   "outputs": [],
   "source": [
    "print(dataset.feature_names)\n"
   ]
  },
  {
   "cell_type": "code",
   "execution_count": null,
   "metadata": {},
   "outputs": [],
   "source": [
    "print(dataset.DESCR)\n"
   ]
  },
  {
   "cell_type": "code",
   "execution_count": null,
   "metadata": {},
   "outputs": [],
   "source": [
    "print(dataset.target)\n"
   ]
  },
  {
   "cell_type": "code",
   "execution_count": null,
   "metadata": {},
   "outputs": [],
   "source": [
    "df = pd.DataFrame(dataset.data, columns=dataset.feature_names)\n",
    "df.head()\n"
   ]
  },
  {
   "cell_type": "code",
   "execution_count": null,
   "metadata": {},
   "outputs": [],
   "source": [
    "df['MEDV'] = dataset.target\n",
    "df.head()\n"
   ]
  },
  {
   "cell_type": "markdown",
   "metadata": {},
   "source": [
    "## Data Cleansing"
   ]
  },
  {
   "cell_type": "code",
   "execution_count": null,
   "metadata": {},
   "outputs": [],
   "source": [
    "df.info()\n"
   ]
  },
  {
   "cell_type": "code",
   "execution_count": null,
   "metadata": {},
   "outputs": [],
   "source": [
    "print(df.isnull().sum())\n"
   ]
  },
  {
   "cell_type": "markdown",
   "metadata": {
    "collapsed": true
   },
   "source": [
    "## Feature Selection"
   ]
  },
  {
   "cell_type": "code",
   "execution_count": null,
   "metadata": {},
   "outputs": [],
   "source": [
    "corr = df.corr()\n",
    "print(corr)\n"
   ]
  },
  {
   "cell_type": "code",
   "execution_count": null,
   "metadata": {},
   "outputs": [],
   "source": [
    "#---get the top 3 features that has the highest correlation---\n",
    "print(df.corr().abs().nlargest(3, 'MEDV').index)\n",
    "\n",
    "#---print the top 3 correlation values---\n",
    "print(df.corr().abs().nlargest(3, 'MEDV').values[:,13])\n"
   ]
  },
  {
   "cell_type": "markdown",
   "metadata": {
    "collapsed": true
   },
   "source": [
    "## Multiple Regression"
   ]
  },
  {
   "cell_type": "code",
   "execution_count": null,
   "metadata": {},
   "outputs": [],
   "source": [
    "%matplotlib inline\n",
    "\n",
    "plt.scatter(df['LSTAT'], df['MEDV'], marker='o')\n",
    "plt.xlabel('LSTAT')\n",
    "plt.ylabel('MEDV')\n"
   ]
  },
  {
   "cell_type": "code",
   "execution_count": null,
   "metadata": {},
   "outputs": [],
   "source": [
    "plt.scatter(df['RM'], df['MEDV'], marker='o')\n",
    "plt.xlabel('RM')\n",
    "plt.ylabel('MEDV')\n"
   ]
  },
  {
   "cell_type": "code",
   "execution_count": null,
   "metadata": {},
   "outputs": [],
   "source": [
    "from mpl_toolkits.mplot3d import Axes3D\n",
    "\n",
    "fig = plt.figure(figsize=(18,15))\n",
    "ax = fig.add_subplot(111, projection='3d')\n",
    "\n",
    "ax.scatter(df['LSTAT'],\n",
    "           df['RM'],\n",
    "           df['MEDV'],\n",
    "           c='b')\n",
    "\n",
    "ax.set_xlabel(\"LSTAT\")\n",
    "ax.set_ylabel(\"RM\")\n",
    "ax.set_zlabel(\"MEDV\")\n",
    "plt.show()\n"
   ]
  },
  {
   "cell_type": "markdown",
   "metadata": {
    "collapsed": true
   },
   "source": [
    "## Training the Model"
   ]
  },
  {
   "cell_type": "code",
   "execution_count": null,
   "metadata": {},
   "outputs": [],
   "source": [
    "x = pd.DataFrame(np.c_[df['LSTAT'], df['RM']], columns = ['LSTAT','RM'])\n",
    "Y = df['MEDV']\n"
   ]
  },
  {
   "cell_type": "code",
   "execution_count": null,
   "metadata": {},
   "outputs": [],
   "source": [
    "from sklearn.model_selection import train_test_split\n",
    "x_train, x_test, Y_train, Y_test = train_test_split(x, Y, test_size = 0.3,\n",
    "                                                    random_state=5)\n"
   ]
  },
  {
   "cell_type": "code",
   "execution_count": null,
   "metadata": {},
   "outputs": [],
   "source": [
    "print(x_train.shape)\n",
    "print(Y_train.shape)\n"
   ]
  },
  {
   "cell_type": "code",
   "execution_count": null,
   "metadata": {},
   "outputs": [],
   "source": [
    "print(x_test.shape)\n",
    "print(Y_test.shape)\n"
   ]
  },
  {
   "cell_type": "code",
   "execution_count": null,
   "metadata": {},
   "outputs": [],
   "source": [
    "from sklearn.linear_model import LinearRegression\n",
    "\n",
    "model = LinearRegression()\n",
    "model.fit(x_train, Y_train)\n"
   ]
  },
  {
   "cell_type": "code",
   "execution_count": null,
   "metadata": {},
   "outputs": [],
   "source": [
    "price_pred = model.predict(x_test)\n"
   ]
  },
  {
   "cell_type": "code",
   "execution_count": null,
   "metadata": {},
   "outputs": [],
   "source": [
    "print('R-squared: %.4f' % model.score(x_test,\n",
    "                                      Y_test))\n"
   ]
  },
  {
   "cell_type": "code",
   "execution_count": null,
   "metadata": {},
   "outputs": [],
   "source": [
    "from sklearn.metrics import mean_squared_error\n",
    "\n",
    "mse = mean_squared_error(Y_test, price_pred)\n",
    "print(mse)\n",
    "\n",
    "plt.scatter(Y_test, price_pred)\n",
    "plt.xlabel(\"Actual Prices\")\n",
    "plt.ylabel(\"Predicted prices\")\n",
    "plt.title(\"Actual prices vs Predicted prices\")\n"
   ]
  },
  {
   "cell_type": "markdown",
   "metadata": {
    "collapsed": true
   },
   "source": [
    "## Getting the Intercept and Coefficients"
   ]
  },
  {
   "cell_type": "code",
   "execution_count": null,
   "metadata": {},
   "outputs": [],
   "source": [
    "print(model.intercept_)\n",
    "print(model.coef_)\n"
   ]
  },
  {
   "cell_type": "code",
   "execution_count": null,
   "metadata": {},
   "outputs": [],
   "source": [
    "print(model.predict([[30,5]]))\n"
   ]
  },
  {
   "cell_type": "markdown",
   "metadata": {},
   "source": [
    "## Plotting the 3D Hyperplane"
   ]
  },
  {
   "cell_type": "code",
   "execution_count": null,
   "metadata": {},
   "outputs": [],
   "source": [
    "import matplotlib.pyplot as plt\n",
    "import pandas as pd\n",
    "import numpy as np\n",
    "from mpl_toolkits.mplot3d import Axes3D\n",
    "\n",
    "from sklearn.datasets import load_boston\n",
    "dataset = load_boston()\n",
    "\n",
    "df = pd.DataFrame(dataset.data, columns=dataset.feature_names)\n",
    "df['MEDV'] = dataset.target\n",
    "\n",
    "x = pd.DataFrame(np.c_[df['LSTAT'], df['RM']], columns = ['LSTAT','RM'])\n",
    "Y = df['MEDV']\n",
    "\n",
    "fig = plt.figure(figsize=(18,15))\n",
    "ax = fig.add_subplot(111, projection='3d')\n",
    "\n",
    "ax.scatter(x['LSTAT'],\n",
    "           x['RM'],\n",
    "           Y,\n",
    "           c='b')\n",
    "\n",
    "ax.set_xlabel(\"LSTAT\")\n",
    "ax.set_ylabel(\"RM\")\n",
    "ax.set_zlabel(\"MEDV\")\n",
    "\n",
    "#---create a meshgrid of all the values for LSTAT and RM---\n",
    "x_surf = np.arange(0, 40, 1)   #---for LSTAT---\n",
    "y_surf = np.arange(0, 10, 1)   #---for RM---\n",
    "x_surf, y_surf = np.meshgrid(x_surf, y_surf)\n",
    "\n",
    "from sklearn.linear_model import LinearRegression\n",
    "model = LinearRegression()\n",
    "model.fit(x, Y)\n",
    "\n",
    "#---calculate z(MEDC) based on the model---\n",
    "z = lambda x,y: (model.intercept_ + model.coef_[0] * x + model.coef_[1] * y)\n",
    "\n",
    "ax.plot_surface(x_surf, y_surf, z(x_surf,y_surf),\n",
    "                rstride=1,\n",
    "                cstride=1,\n",
    "                color='None',\n",
    "                alpha = 0.4)\n",
    "\n",
    "plt.show()\n"
   ]
  },
  {
   "cell_type": "markdown",
   "metadata": {},
   "source": [
    "# Exercises\n",
    "---"
   ]
  },
  {
   "cell_type": "markdown",
   "metadata": {},
   "source": [
    "1. Try the above in a python file. "
   ]
  },
  {
   "cell_type": "markdown",
   "metadata": {},
   "source": [
    "# Polynomial Regression"
   ]
  },
  {
   "cell_type": "code",
   "execution_count": null,
   "metadata": {},
   "outputs": [],
   "source": [
    "df = pd.read_csv('polynomial.csv')\n",
    "plt.scatter(df.x,df.y)\n"
   ]
  },
  {
   "cell_type": "code",
   "execution_count": null,
   "metadata": {},
   "outputs": [],
   "source": [
    "model = LinearRegression()\n",
    "\n",
    "x = df.x[0:6, np.newaxis]     #---convert to 2D array---\n",
    "y = df.y[0:6, np.newaxis]     #---convert to 2D array---\n",
    "\n",
    "model.fit(x,y)\n",
    "\n",
    "#---perform prediction---\n",
    "y_pred = model.predict(x)\n",
    "\n",
    "#---plot the training points---\n",
    "plt.scatter(x, y, s=10, color='b')\n",
    "\n",
    "#---plot the straight line---\n",
    "plt.plot(x, y_pred, color='r')\n",
    "plt.show()\n",
    "\n",
    "#---calculate R-squared---\n",
    "print('R-squared for training set: %.4f' % model.score(x,y))\n"
   ]
  },
  {
   "cell_type": "markdown",
   "metadata": {},
   "source": [
    "## Formula for Polynomial Regression"
   ]
  },
  {
   "cell_type": "markdown",
   "metadata": {},
   "source": [
    "A polynomial function of degree 1 has the following form:\n",
    "\n",
    "Y = β0 + β1x\n",
    "\n",
    "Quadratic regression is a degree 2 \n",
    "\n",
    "Y = β0 + β1x + β2x2\n",
    "\n",
    "For a polynomial of degree 3, the formula is as follows:\n",
    "\n",
    "Y = β0 + β1x + β2x2 + β3x3\n",
    "\n",
    "In general, a polynomial of degree n has the formula of:\n",
    "\n",
    "Y = β0 + β1x + β2x2 + β3x3 + … + βnxn\n",
    "\n",
    "The idea behind polynomial regression is simple — find the coefficients of the polynomial function that best fits the data.\n"
   ]
  },
  {
   "cell_type": "markdown",
   "metadata": {},
   "source": [
    "## Polynomial Regression in Scikit-learn"
   ]
  },
  {
   "cell_type": "code",
   "execution_count": null,
   "metadata": {},
   "outputs": [],
   "source": [
    "from sklearn.preprocessing import PolynomialFeatures\n",
    "degree = 2\n",
    "\n",
    "polynomial_features = PolynomialFeatures(degree = degree)\n"
   ]
  },
  {
   "cell_type": "code",
   "execution_count": null,
   "metadata": {},
   "outputs": [],
   "source": [
    "x_poly = polynomial_features.fit_transform(x)\n",
    "print(x_poly)\n"
   ]
  },
  {
   "cell_type": "code",
   "execution_count": null,
   "metadata": {},
   "outputs": [],
   "source": [
    "model = LinearRegression()\n",
    "model.fit(x_poly, y)\n",
    "y_poly_pred = model.predict(x_poly)\n",
    "\n",
    "#---plot the points---\n",
    "plt.scatter(x, y, s=10)\n",
    "\n",
    "#---plot the regression line---\n",
    "plt.plot(x, y_poly_pred)\n",
    "plt.show()\n"
   ]
  },
  {
   "cell_type": "code",
   "execution_count": null,
   "metadata": {},
   "outputs": [],
   "source": [
    "print(model.intercept_)\n",
    "print(model.coef_)\n"
   ]
  },
  {
   "cell_type": "code",
   "execution_count": null,
   "metadata": {},
   "outputs": [],
   "source": [
    "print('R-squared for training set: %.4f' % model.score(x_poly,y))\n"
   ]
  },
  {
   "cell_type": "markdown",
   "metadata": {},
   "source": [
    "## Using Polynomial Multiple Regression on the Boston Dataset"
   ]
  },
  {
   "cell_type": "code",
   "execution_count": null,
   "metadata": {},
   "outputs": [],
   "source": [
    "import matplotlib.pyplot as plt\n",
    "import pandas as pd\n",
    "import numpy as np\n",
    "\n",
    "from sklearn.preprocessing import PolynomialFeatures\n",
    "from sklearn.linear_model import LinearRegression\n",
    "from sklearn.datasets import load_boston\n",
    "\n",
    "dataset = load_boston()\n",
    "\n",
    "df = pd.DataFrame(dataset.data, columns=dataset.feature_names)\n",
    "df['MEDV'] = dataset.target\n",
    "\n",
    "x = pd.DataFrame(np.c_[df['LSTAT'], df['RM']], columns = ['LSTAT','RM'])\n",
    "Y = df['MEDV']\n",
    "\n",
    "from sklearn.model_selection import train_test_split\n",
    "x_train, x_test, Y_train, Y_test = train_test_split(x, Y, test_size = 0.3,\n",
    "                                                    random_state=5)\n"
   ]
  },
  {
   "cell_type": "code",
   "execution_count": null,
   "metadata": {},
   "outputs": [],
   "source": [
    "#---use a polynomial function of degree 2---\n",
    "degree = 2\n",
    "polynomial_features= PolynomialFeatures(degree = degree)\n",
    "x_train_poly = polynomial_features.fit_transform(x_train)\n"
   ]
  },
  {
   "cell_type": "markdown",
   "metadata": {},
   "source": [
    "When using a polynomial function of degree 2 on two independent variables x1 and x2, the formula becomes:\n",
    "\n",
    "Y = β0 + β1x1 + β2x2 + β3x12 + β4x1x2 +β5x22\n",
    "\n",
    "where Y is the dependent variable, β0 is the intercept, β1, β2, β3, and β4 are the coefficients of the various combinations of the two features x1 and x2, respectively.\n"
   ]
  },
  {
   "cell_type": "code",
   "execution_count": null,
   "metadata": {},
   "outputs": [],
   "source": [
    "#---print out the formula---\n",
    "print(polynomial_features.get_feature_names(['x','y']))\n"
   ]
  },
  {
   "cell_type": "code",
   "execution_count": null,
   "metadata": {},
   "outputs": [],
   "source": [
    "model = LinearRegression()\n",
    "model.fit(x_train_poly, Y_train)\n"
   ]
  },
  {
   "cell_type": "code",
   "execution_count": null,
   "metadata": {},
   "outputs": [],
   "source": [
    "x_test_poly = polynomial_features.fit_transform(x_test)\n",
    "print('R-squared: %.4f' % model.score(x_test_poly,\n",
    "                                      Y_test))\n"
   ]
  },
  {
   "cell_type": "code",
   "execution_count": null,
   "metadata": {},
   "outputs": [],
   "source": [
    "print(model.intercept_)\n",
    "print(model.coef_)\n"
   ]
  },
  {
   "cell_type": "markdown",
   "metadata": {},
   "source": [
    "With these values, the formula now becomes:\n",
    "\n",
    "Y = β0 + β1x1 + β2x2 + β3x12 + β4x1x2 +β5x22\n",
    "\n",
    "Y = 26.9334305238 + 1.47424550e+00 x1 + (-6.70204730e+00) x2 + 7.93570743e-04 x12 + (-3.66578385e-01) x1x2 + 1.17188007e+00 x22\n"
   ]
  },
  {
   "cell_type": "markdown",
   "metadata": {},
   "source": [
    "## Plotting the 3D Hyperplane"
   ]
  },
  {
   "cell_type": "code",
   "execution_count": null,
   "metadata": {},
   "outputs": [],
   "source": [
    "import matplotlib.pyplot as plt\n",
    "import pandas as pd\n",
    "import numpy as np\n",
    "\n",
    "from mpl_toolkits.mplot3d import Axes3D\n",
    "from sklearn.preprocessing import PolynomialFeatures\n",
    "from sklearn.linear_model import LinearRegression\n",
    "from sklearn.datasets import load_boston\n",
    "\n",
    "dataset = load_boston()\n",
    "\n",
    "df = pd.DataFrame(dataset.data, columns=dataset.feature_names)\n",
    "df['MEDV'] = dataset.target\n",
    "\n",
    "x = pd.DataFrame(np.c_[df['LSTAT'], df['RM']], columns = ['LSTAT','RM'])\n",
    "Y = df['MEDV']\n",
    "\n",
    "fig = plt.figure(figsize=(18,15))\n",
    "ax = fig.add_subplot(111, projection='3d')\n",
    "\n",
    "ax.scatter(x['LSTAT'],\n",
    "           x['RM'],\n",
    "           Y,\n",
    "           c='b')\n",
    "\n",
    "ax.set_xlabel(\"LSTAT\")\n",
    "ax.set_ylabel(\"RM\")\n",
    "ax.set_zlabel(\"MEDV\")\n",
    "\n",
    "#---create a meshgrid of all the values for LSTAT and RM---\n",
    "x_surf = np.arange(0, 40, 1)   #---for LSTAT---\n",
    "y_surf = np.arange(0, 10, 1)   #---for RM---\n",
    "x_surf, y_surf = np.meshgrid(x_surf, y_surf)\n",
    "\n",
    "#---use a polynomial function of degree 2---\n",
    "degree = 2\n",
    "polynomial_features= PolynomialFeatures(degree = degree)\n",
    "x_poly = polynomial_features.fit_transform(x)\n",
    "print(polynomial_features.get_feature_names(['x','y']))\n",
    "\n",
    "#---apply linear regression---\n",
    "model = LinearRegression()\n",
    "model.fit(x_poly, Y)\n",
    "\n",
    "#---calculate z(MEDC) based on the model---\n",
    "z = lambda x,y: (model.intercept_ +\n",
    "                (model.coef_[1] * x) +\n",
    "                (model.coef_[2] * y) +\n",
    "                (model.coef_[3] * x**2) +\n",
    "                (model.coef_[4] * x*y) +\n",
    "                (model.coef_[5] * y**2))\n",
    "\n",
    "ax.plot_surface(x_surf, y_surf, z(x_surf,y_surf),\n",
    "                rstride=1,\n",
    "                cstride=1,\n",
    "                color='None',\n",
    "                alpha = 0.4)\n",
    "\n",
    "plt.show()\n"
   ]
  },
  {
   "cell_type": "markdown",
   "metadata": {},
   "source": [
    "# Exercises\n",
    "---"
   ]
  },
  {
   "cell_type": "markdown",
   "metadata": {},
   "source": [
    "1. Try the above in a python file."
   ]
  },
  {
   "cell_type": "code",
   "execution_count": null,
   "metadata": {},
   "outputs": [],
   "source": []
  }
 ],
 "metadata": {
  "kernelspec": {
   "display_name": "Python 3 (ipykernel)",
   "language": "python",
   "name": "python3"
  },
  "language_info": {
   "codemirror_mode": {
    "name": "ipython",
    "version": 3
   },
   "file_extension": ".py",
   "mimetype": "text/x-python",
   "name": "python",
   "nbconvert_exporter": "python",
   "pygments_lexer": "ipython3",
   "version": "3.10.4"
  }
 },
 "nbformat": 4,
 "nbformat_minor": 2
}
